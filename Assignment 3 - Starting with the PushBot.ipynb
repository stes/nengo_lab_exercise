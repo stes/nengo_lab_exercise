{
 "cells": [
  {
   "cell_type": "markdown",
   "metadata": {},
   "source": [
    "# Assignment 3 - Starting with the Pushbot"
   ]
  },
  {
   "cell_type": "markdown",
   "metadata": {},
   "source": [
    "## 3.1 Installing the PushBot software\n",
    "\n",
    "This Assignment assumes that you already finished Assignments 1 and 2 and your computer is already setup with Python/NumPy or [Anaconda](https://www.continuum.io/downloads) and you have a working installation of [Nengo](https://github.com/nengo/nengo) and the [Nengo-GUI](https://github.com/nengo/nengo_gui). \n",
    "\n",
    "Now get the code for the PushBot-Nengo interface by running \n",
    "```\n",
    "git clone https://github.com/fmirus/nstbot\n",
    "``` \n",
    "\n",
    "in the desired installation folder.\n",
    "Now enter the cloned repository by \n",
    "\n",
    "```\n",
    "cd nstbot\n",
    "``` \n",
    "\n",
    "and change to the branch ```nengo_lab_2_lasers``` by running\n",
    "\n",
    "```\n",
    "git checkout -b nengo_lab_2_lasers origin/nengo_lab_2_lasers\n",
    "```\n",
    "\n",
    "Now install the interface by running \n",
    "\n",
    "```\n",
    "python setup.py install\n",
    "```\n",
    "\n",
    "**Note**: if you are not in an anaconda or virtual environment this might need sudo privileges.\n",
    "\n",
    "\n"
   ]
  },
  {
   "cell_type": "code",
   "execution_count": null,
   "metadata": {
    "collapsed": true
   },
   "outputs": [],
   "source": []
  },
  {
   "cell_type": "markdown",
   "metadata": {},
   "source": [
    "## 3.2 Running the first example\n",
    "\n",
    "Open the file ```nstbot/lab_examples/nengo_lab_pushbot_example.py``` and change the last number of the IP-adress in line 5\n",
    "\n",
    "```\n",
    "bot.connect(nstbot.Socket('10.162.177.xxx'))\n",
    "```\n",
    "\n",
    "to the one written on your robot's WiFi-module on its backside, in this case 108:\n",
    "\n",
    "<img src=\"imgs/pushbot.png\" />"
   ]
  },
  {
   "cell_type": "markdown",
   "metadata": {},
   "source": [
    "Now connect your PC to the NSTrobots_24GHz network and run the first example by \n",
    "\n",
    "```\n",
    "nengo nstbot/lab_examples/nengo_lab_pushbot_example.py \n",
    "```\n",
    "\n",
    "With the left resp. right slider of the motors node, you can control the left resp. right wheel of the robot. The two sliders of the behave node will activate the behaviours for driving forward/backwards or turning. Positive resp. negative values of the left slider will make the robot drive forward resp. backwards. Positive resp. negative values of the right slider will make the robot turn right resp. left. \n",
    "\n",
    "Play around with the controls und drive the robot around. How does the value of the y_av ensemble change based on the location of the two tracked laser points in the DVS-image? What entity can be approximated by the value encoded by the y_av ensemble?"
   ]
  },
  {
   "cell_type": "code",
   "execution_count": 1,
   "metadata": {},
   "outputs": [
    {
     "name": "stdout",
     "output_type": "stream",
     "text": [
      "Starting nengo server at http://localhost:8081\n",
      "Neues Fenster in aktueller Browsersitzung erstellt.\n",
      "No connections remaining to the nengo_gui server.\n",
      "Shutting down server...\n"
     ]
    }
   ],
   "source": [
    "!nengo nstbot/lab_examples/nengo_lab_pushbot_example.py"
   ]
  },
  {
   "cell_type": "markdown",
   "metadata": {
    "collapsed": true
   },
   "source": [
    "## 3.3 Task 1: Obstacle avoidance\n",
    "\n",
    "Extend the first example and implement a network which drives the robot around and avoids hitting obstacles based on the tracked laser points in the DVS image.\n",
    "\n",
    "### Extension \n",
    "Use the output of your previously implemented network (or manual robot control) as \"training data\" for \"teaching\" the robot the desired behaviour. Therefore, have a look at the example network ```nstbot/lab_examples/learning_pes.py``` to get an idea of how to use the PES learning rule in Nengo."
   ]
  },
  {
   "cell_type": "markdown",
   "metadata": {},
   "source": [
    "## 3.4 Task 2: Robot cat\n",
    "\n",
    "Change to the branch nengo_lab_1_laser by running\n",
    "```\n",
    "git checkout -b nengo_lab_1_laser origin/nengo_lab_1_laser\n",
    "```\n",
    "\n",
    "and reinstall this version of the code by running \n",
    "```\n",
    "python setup.py install\n",
    "```\n",
    "\n",
    "again. Get one of the laser-pointer-pens and extend the first example in nstbot/examples/nengo_lab_pushbot_example.py: Implement a network which keeps the blinking stimulus of the laser-pen in the center of robot's field of view and at a certain distance.\n",
    "\n",
    "### Extension \n",
    "Use the output of your previously implemented network (or manual robot control) as \"training data\" for \"teaching\" the robot the desired behaviour. Therefore, have a look at the example network ```nstbot/lab_examples/learning_pes.py``` to get an idea of how to use the PES learning rule in Nengo."
   ]
  },
  {
   "cell_type": "code",
   "execution_count": null,
   "metadata": {
    "collapsed": true
   },
   "outputs": [],
   "source": [
    "import nengo\n",
    "import numpy as np\n",
    "import nstbot\n",
    "\n",
    "bot = nstbot.PushBot()\n",
    "bot.connect(nstbot.Socket('10.162.177.108'))\n",
    "bot.retina(True)\n",
    "bot.track_frequencies([600])\n",
    "#bot.show_image()\n",
    "\n",
    "class Bot(nengo.Network):\n",
    "    def __init__(self, bot):\n",
    "        super(Bot, self).__init__()\n",
    "        with self:\n",
    "            def bot_control(t, x):\n",
    "                bot.motor(x[0], x[1], msg_period=0.1)\n",
    "\n",
    "            self.base_ctrl = nengo.Node(bot_control, size_in=2)\n",
    "\n",
    "            def get_points(t):\n",
    "                point_array = np.array([[bot.p_x[ind], bot.p_y[ind]] for ind in range(len(bot.p_x))])\n",
    "                return point_array.flatten()\n",
    "\n",
    "            self.tracked_points = nengo.Node(get_points)\n",
    "\n",
    "class TaskDriveFrontBack(nengo.Network):\n",
    "    def __init__(self, botnet, strength=0.4):\n",
    "        super(TaskDriveFrontBack, self).__init__()\n",
    "        with self:\n",
    "            self.activation = nengo.Ensemble(n_neurons=50,  dimensions=1, neuron_type=nengo.Direct())\n",
    "\n",
    "        nengo.Connection(self.activation, botnet.base_ctrl, function=lambda x: [x,x] ,transform=strength)\n",
    "\n",
    "class TaskTurn(nengo.Network):\n",
    "    def __init__(self, botnet, strength=1.0):\n",
    "        super(TaskTurn, self).__init__()\n",
    "        with self:\n",
    "            self.activation = nengo.Ensemble(n_neurons=50, dimensions=1, neuron_type=nengo.Direct())\n",
    "\n",
    "        nengo.Connection(self.activation, botnet.base_ctrl, function=lambda x: [x,-x] ,transform=strength)\n",
    "\n",
    "class SensorTest(nengo.Network):\n",
    "    def __init__(self, botnet):\n",
    "        super(SensorTest, self).__init__()\n",
    "        with self:\n",
    "            self.stim = nengo.Ensemble(n_neurons=200, dimensions=2, radius=1.4)\n",
    "\n",
    "        nengo.Connection(botnet.tracked_points, self.stim, transform=1.0/128.0)\n",
    "\n",
    "\n",
    "class BehaviourControl(nengo.Network):\n",
    "    def __init__(self, behaviours):\n",
    "        super(BehaviourControl, self).__init__()\n",
    "        with self:\n",
    "            self.behave = nengo.Node([0]*len(behaviours))\n",
    "        for i, b in enumerate(behaviours):\n",
    "            nengo.Connection(self.behave[i], b.activation, synapse=None)\n",
    "\n",
    "\n",
    "model = nengo.Network(seed=2)\n",
    "with model:\n",
    "\n",
    "    motors = nengo.Node([0]*2)\n",
    "    botnet = Bot(bot)\n",
    "    nengo.Connection(motors, botnet.base_ctrl)\n",
    "\n",
    "    drive_fb = TaskDriveFrontBack(botnet)\n",
    "    turn_lr = TaskTurn(botnet)\n",
    "    sens = SensorTest(botnet)\n",
    "    bc = BehaviourControl([drive_fb, turn_lr])\n",
    "    \n",
    "    #diff = nengo.Ensemble(n_neurons=700, dimensions=2)\n",
    "    \n",
    "    #nengo.Connection(sens.stim, diff)\n",
    "    #nengo.Connection(diff, diff, synapse = 0.3, function = lambda x: -x)\n",
    "    \n",
    "    nengo.Connection(sens.stim[1], drive_fb.activation, synapse=None,\n",
    "                     function=lambda x: max(2 * (x - 0.5), 0))\n",
    "    nengo.Connection(sens.stim[0], turn_lr.activation, synapse=None,\n",
    "                    function=lambda x: 0.5 * (x - 0.5))"
   ]
  }
 ],
 "metadata": {
  "kernelspec": {
   "display_name": "Python 3",
   "language": "python",
   "name": "python3"
  },
  "language_info": {
   "codemirror_mode": {
    "name": "ipython",
    "version": 3
   },
   "file_extension": ".py",
   "mimetype": "text/x-python",
   "name": "python",
   "nbconvert_exporter": "python",
   "pygments_lexer": "ipython3",
   "version": "3.6.1"
  }
 },
 "nbformat": 4,
 "nbformat_minor": 2
}
